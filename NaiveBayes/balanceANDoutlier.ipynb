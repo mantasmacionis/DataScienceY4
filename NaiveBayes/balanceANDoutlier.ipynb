{
 "cells": [
  {
   "cell_type": "code",
   "execution_count": 3,
   "id": "c096fbd2-9694-4235-a43a-106858e2fb06",
   "metadata": {},
   "outputs": [
    {
     "name": "stderr",
     "output_type": "stream",
     "text": [
      "C:\\Users\\35387\\AppData\\Local\\Temp\\ipykernel_11132\\3211017739.py:5: DeprecationWarning: \n",
      "Pyarrow will become a required dependency of pandas in the next major release of pandas (pandas 3.0),\n",
      "(to allow more performant data types, such as the Arrow string type, and better interoperability with other libraries)\n",
      "but was not found to be installed on your system.\n",
      "If this would cause problems for you,\n",
      "please provide us feedback at https://github.com/pandas-dev/pandas/issues/54466\n",
      "        \n",
      "  import pandas as pd\n"
     ]
    },
    {
     "name": "stdout",
     "output_type": "stream",
     "text": [
      "Balanced dataset saved to balancedWINE.csv\n"
     ]
    }
   ],
   "source": [
    "from imblearn.over_sampling import SMOTE\n",
    "from sklearn.model_selection import train_test_split\n",
    "from sklearn.preprocessing import StandardScaler\n",
    "import pandas as pd\n",
    "\n",
    "# Load the dataset\n",
    "file_path = 'winequality-combined.csv'\n",
    "data = pd.read_csv(file_path)\n",
    "\n",
    "# Separate features and target variable\n",
    "X = data.drop('quality', axis=1)\n",
    "y = data['quality']\n",
    "\n",
    "#scale data \n",
    "scaler = StandardScaler()\n",
    "X_scaled = scaler.fit_transform(X)\n",
    "\n",
    "# Split the dataset into training and testing sets\n",
    "X_train, X_test, y_train, y_test = train_test_split(X_scaled, y, test_size=0.2, random_state=42)\n",
    "\n",
    "# Apply SMOTE to generate synthetic samples and balance the dataset\n",
    "smote = SMOTE(k_neighbors=1)\n",
    "X_sm, y_sm = smote.fit_resample(X_train, y_train)\n",
    "\n",
    "# Combine the balanced features and target variable into a single DataFrame\n",
    "balanced_data = pd.DataFrame(X_sm, columns=X.columns)\n",
    "balanced_data['quality'] = y_sm\n",
    "\n",
    "# Save the balanced dataset to a new CSV file\n",
    "balanced_file_path = 'balancedWINE.csv'\n",
    "balanced_data.to_csv(balanced_file_path, index=False)\n",
    "\n",
    "print(f\"Balanced dataset saved to {balanced_file_path}\")"
   ]
  },
  {
   "cell_type": "code",
   "execution_count": 6,
   "id": "ee780a1c-fce7-4a47-9918-ddb54bf51fe8",
   "metadata": {},
   "outputs": [
    {
     "name": "stdout",
     "output_type": "stream",
     "text": [
      "\n",
      " original dataset last entries:\n",
      "      fixed acidity  volatile acidity  citric acid  residual sugar  chlorides  \\\n",
      "6492            6.2              0.21         0.29             1.6      0.039   \n",
      "6493            6.6              0.32         0.36             8.0      0.047   \n",
      "6494            6.5              0.24         0.19             1.2      0.041   \n",
      "6495            5.5              0.29         0.30             1.1      0.022   \n",
      "6496            6.0              0.21         0.38             0.8      0.020   \n",
      "\n",
      "      free sulfur dioxide  total sulfur dioxide  density    pH  sulphates  \\\n",
      "6492                 24.0                  92.0  0.99114  3.27       0.50   \n",
      "6493                 57.0                 168.0  0.99490  3.15       0.46   \n",
      "6494                 30.0                 111.0  0.99254  2.99       0.46   \n",
      "6495                 20.0                 110.0  0.98869  3.34       0.38   \n",
      "6496                 22.0                  98.0  0.98941  3.26       0.32   \n",
      "\n",
      "      alcohol  quality  \n",
      "6492     11.2        6  \n",
      "6493      9.6        5  \n",
      "6494      9.4        6  \n",
      "6495     12.8        7  \n",
      "6496     11.8        6  \n",
      "\n",
      " balanced dataset last entries:\n",
      "       fixed acidity  volatile acidity  citric acid  residual sugar  \\\n",
      "15668       0.255117         -0.589764     0.337888       -0.568484   \n",
      "15669      -0.178191         -0.226655     0.034369       -0.767447   \n",
      "15670      -0.135756         -0.276778     0.067495       -0.761665   \n",
      "15671      -0.152639         -0.256836     0.054315       -0.763965   \n",
      "15672      -0.037001         -0.266230     0.220640       -0.508579   \n",
      "\n",
      "       chlorides  free sulfur dioxide  total sulfur dioxide   density  \\\n",
      "15668  -0.704814            -0.193792              0.388676 -1.198156   \n",
      "15669  -0.862951            -0.286463             -0.084992 -1.538893   \n",
      "15670  -0.843322            -0.274840             -0.019292 -1.518254   \n",
      "15671  -0.851132            -0.279464             -0.045432 -1.526466   \n",
      "15672  -0.887302             0.587909              0.246810 -1.499319   \n",
      "\n",
      "             pH  sulphates   alcohol  quality  \n",
      "15668  0.339776  -0.356103  1.532606        9  \n",
      "15669  0.802666   0.109420  1.640286        9  \n",
      "15670  0.747066   0.049343  1.646052        9  \n",
      "15671  0.769187   0.073245  1.643758        9  \n",
      "15672  0.382517  -0.719829  1.761888        9  \n"
     ]
    }
   ],
   "source": [
    "import pandas as pd\n",
    "\n",
    "original_file_path = 'winequality-combined.csv'  \n",
    "balanced_file_path = 'balancedWINE.csv'  \n",
    "\n",
    "# Load the original dataset\n",
    "original_data = pd.read_csv(original_file_path)\n",
    "\n",
    "# Load the balanced dataset\n",
    "balanced_data = pd.read_csv(balanced_file_path)\n",
    "\n",
    "# Display the last few entries of both datasets\n",
    "print(\"\\n original dataset last entries:\")\n",
    "print(original_data.tail())\n",
    "\n",
    "print(\"\\n balanced dataset last entries:\")\n",
    "print(balanced_data.tail())"
   ]
  },
  {
   "cell_type": "code",
   "execution_count": 4,
   "id": "c64d3caf-21f6-4733-83ee-d0294ff6153c",
   "metadata": {},
   "outputs": [
    {
     "name": "stdout",
     "output_type": "stream",
     "text": [
      "Dataset with outliers removed has been saved to balancedOUTLIER.csv.\n",
      "New dataset contains 14124 rows and 12 columns.\n"
     ]
    }
   ],
   "source": [
    "import pandas as pd\n",
    "from scipy import stats\n",
    "import numpy as np\n",
    "\n",
    "# Load the balanced dataset from 'balancedWINE.csv'\n",
    "file_path = 'balancedWINE.csv' \n",
    "balanced_data = pd.read_csv(file_path)\n",
    "\n",
    "# Calculate Z-scores for each numeric feature in the DataFrame\n",
    "z_scores = np.abs(stats.zscore(balanced_data.select_dtypes(include=[np.number])))\n",
    "\n",
    "# Define a Z-score threshold to identify outliers\n",
    "threshold = 3\n",
    "\n",
    "# Identify rows where all features have Z-scores within the threshold (no outliers)\n",
    "non_outlier_indices = (z_scores < threshold).all(axis=1)\n",
    "\n",
    "# Filter the DataFrame to only include rows without outliers\n",
    "data_without_outliers = balanced_data[non_outlier_indices]\n",
    "\n",
    "# Save the dataset without outliers to a new CSV file\n",
    "outliers_removed_file_path = 'balancedOUTLIER.csv'  \n",
    "data_without_outliers.to_csv(outliers_removed_file_path, index=False)\n",
    "\n",
    "# Print a message to confirm completion\n",
    "print(f\"Dataset with outliers removed has been saved to {outliers_removed_file_path}.\")\n",
    "print(f\"New dataset contains {data_without_outliers.shape[0]} rows and {data_without_outliers.shape[1]} columns.\")"
   ]
  },
  {
   "cell_type": "code",
   "execution_count": null,
   "id": "381393d9-bed9-46d8-a518-9876528b560c",
   "metadata": {},
   "outputs": [],
   "source": []
  }
 ],
 "metadata": {
  "kernelspec": {
   "display_name": "Python 3 (ipykernel)",
   "language": "python",
   "name": "python3"
  },
  "language_info": {
   "codemirror_mode": {
    "name": "ipython",
    "version": 3
   },
   "file_extension": ".py",
   "mimetype": "text/x-python",
   "name": "python",
   "nbconvert_exporter": "python",
   "pygments_lexer": "ipython3",
   "version": "3.9.0"
  }
 },
 "nbformat": 4,
 "nbformat_minor": 5
}
