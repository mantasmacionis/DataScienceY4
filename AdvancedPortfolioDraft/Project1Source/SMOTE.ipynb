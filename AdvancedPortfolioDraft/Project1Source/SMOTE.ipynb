{
 "cells": [
  {
   "cell_type": "code",
   "execution_count": 28,
   "id": "c548057f-8351-451a-8f98-f342544a75c0",
   "metadata": {},
   "outputs": [],
   "source": [
    "import pandas as pd\n",
    "from imblearn.over_sampling import SMOTE\n",
    "from sklearn.model_selection import train_test_split\n",
    "\n",
    "# Load dataset\n",
    "data = pd.read_csv(\"Loan_default.csv\")\n",
    "\n",
    "# Exclude non-numeric columns\n",
    "numeric_columns = ['Age', 'Income', 'LoanAmount', 'CreditScore', 'MonthsEmployed', 'NumCreditLines', 'InterestRate', 'LoanTerm', 'DTIRatio', 'Default']\n",
    "\n",
    "# Create a DataFrame with only numeric columns\n",
    "data_numeric = data[numeric_columns]"
   ]
  },
  {
   "cell_type": "code",
   "execution_count": 29,
   "id": "13043dac-584a-4e12-ad88-c4ac3b3c060e",
   "metadata": {},
   "outputs": [],
   "source": [
    "# Split the data into X (features) and y (target variable)\n",
    "X = data_numeric.drop('Default', axis=1)\n",
    "y = data_numeric['Default']\n",
    "\n",
    "# Split the data into training and testing sets\n",
    "X_train, X_test, y_train, y_test = train_test_split(X, y, test_size=0.2, random_state=42)\n",
    "\n",
    "# Apply SMOTE to balance the dataset\n",
    "smote = SMOTE(sampling_strategy='auto', random_state=42)\n",
    "X_resampled, y_resampled = smote.fit_resample(X_train, y_train)"
   ]
  },
  {
   "cell_type": "code",
   "execution_count": 30,
   "id": "bc431c05-6c47-47f8-a7e9-024e1cbf0610",
   "metadata": {},
   "outputs": [],
   "source": [
    "# Combine the resampled features and target variable\n",
    "resampled_data = pd.concat([X_resampled, y_resampled], axis=1)\n",
    "\n",
    "# Define the path for the output CSV file\n",
    "output_csv_path = \"resampled_loan_default.csv\"\n",
    "\n",
    "# Save the combined data to a CSV file\n",
    "resampled_data.to_csv(output_csv_path, index=False)"
   ]
  },
  {
   "cell_type": "code",
   "execution_count": null,
   "id": "e6b925ff-dd1d-4543-ba5f-9356de18e7b8",
   "metadata": {},
   "outputs": [],
   "source": []
  }
 ],
 "metadata": {
  "kernelspec": {
   "display_name": "Python 3 (ipykernel)",
   "language": "python",
   "name": "python3"
  },
  "language_info": {
   "codemirror_mode": {
    "name": "ipython",
    "version": 3
   },
   "file_extension": ".py",
   "mimetype": "text/x-python",
   "name": "python",
   "nbconvert_exporter": "python",
   "pygments_lexer": "ipython3",
   "version": "3.12.0"
  }
 },
 "nbformat": 4,
 "nbformat_minor": 5
}
