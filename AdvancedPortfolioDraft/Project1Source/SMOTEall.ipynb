{
 "cells": [
  {
   "cell_type": "code",
   "execution_count": 1,
   "id": "c4f3c9f8-f10f-4e2a-9d7e-da5aa69f1b62",
   "metadata": {},
   "outputs": [],
   "source": [
    "import pandas as pd\n",
    "from imblearn.over_sampling import SMOTE\n",
    "from sklearn.model_selection import train_test_split\n",
    "\n",
    "# Load dataset\n",
    "data = pd.read_csv(\"Loan_default_numeric.csv\")\n",
    "\n",
    "# Exclude non-numeric columns\n",
    "numeric_columns = ['Age', 'Income', 'LoanAmount', 'CreditScore', 'MonthsEmployed', 'NumCreditLines', 'InterestRate', 'LoanTerm', 'DTIRatio', 'Education', 'EmploymentType', 'MaritalStatus', 'HasMortgage', 'HasDependents', 'LoanPurpose', 'HasCoSigner','Default']\n",
    "\n",
    "# Create a DataFrame with only numeric columns\n",
    "data_numeric = data[numeric_columns]"
   ]
  },
  {
   "cell_type": "code",
   "execution_count": 2,
   "id": "b16f661f-859b-45f8-a378-51c83c01a1d5",
   "metadata": {},
   "outputs": [],
   "source": [
    "# Split the data into X (features) and y (target variable)\n",
    "X = data_numeric.drop('Default', axis=1)\n",
    "y = data_numeric['Default']\n",
    "\n",
    "# Split the data into training and testing sets\n",
    "X_train, X_test, y_train, y_test = train_test_split(X, y, test_size=0.2, random_state=42)\n",
    "\n",
    "# Apply SMOTE to balance the dataset\n",
    "smote = SMOTE(sampling_strategy='auto', random_state=42)\n",
    "X_resampled, y_resampled = smote.fit_resample(X_train, y_train)"
   ]
  },
  {
   "cell_type": "code",
   "execution_count": 3,
   "id": "c58ce8bc-1c72-439f-b236-110f16bff717",
   "metadata": {},
   "outputs": [],
   "source": [
    "# Combine the resampled features and target variable\n",
    "resampled_data = pd.concat([X_resampled, y_resampled], axis=1)\n",
    "\n",
    "# Define the path for the output CSV file\n",
    "output_csv_path = \"SMOTEofNumeric.csv\"\n",
    "\n",
    "# Save the combined data to a CSV file\n",
    "resampled_data.to_csv(output_csv_path, index=False)"
   ]
  },
  {
   "cell_type": "code",
   "execution_count": null,
   "id": "1f0296dc-ea55-45e0-a30b-093de041debb",
   "metadata": {},
   "outputs": [],
   "source": []
  }
 ],
 "metadata": {
  "kernelspec": {
   "display_name": "Python 3 (ipykernel)",
   "language": "python",
   "name": "python3"
  },
  "language_info": {
   "codemirror_mode": {
    "name": "ipython",
    "version": 3
   },
   "file_extension": ".py",
   "mimetype": "text/x-python",
   "name": "python",
   "nbconvert_exporter": "python",
   "pygments_lexer": "ipython3",
   "version": "3.12.0"
  }
 },
 "nbformat": 4,
 "nbformat_minor": 5
}
