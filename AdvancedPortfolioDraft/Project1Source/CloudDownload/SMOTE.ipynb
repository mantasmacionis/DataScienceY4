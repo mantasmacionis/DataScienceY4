{
 "cells": [
  {
   "cell_type": "code",
   "execution_count": null,
   "id": "5a11e9be-0c79-406e-bf29-32a56078bfdd",
   "metadata": {},
   "outputs": [],
   "source": [
    "pip install -c conda-forge -y imbalanced-learn\n",
    "\n",
    "from imblearn.over_sampling import SMOTE\n",
    "import pandas as pd\n",
    "\n",
    "data = pd.read_csv(\"Loan_default.csv\")\n",
    "\n",
    "X = data.drop(\"target_variable\", axis=1)\n",
    "y = data[\"target_variable\"]\n",
    "\n",
    "\n",
    "smote = SMOTE(sampling_strategy='auto', random_state=42)\n",
    "X_resampled, y_resampled = smote.fit_resample(X, y)"
   ]
  },
  {
   "cell_type": "code",
   "execution_count": null,
   "id": "64c74b3b-21aa-4a41-9c11-d366264e9a0c",
   "metadata": {},
   "outputs": [],
   "source": []
  }
 ],
 "metadata": {
  "kernelspec": {
   "display_name": "anaconda-panel-2023.05-py310",
   "language": "python",
   "name": "conda-env-anaconda-panel-2023.05-py310-py"
  },
  "language_info": {
   "codemirror_mode": {
    "name": "ipython",
    "version": 3
   },
   "file_extension": ".py",
   "mimetype": "text/x-python",
   "name": "python",
   "nbconvert_exporter": "python",
   "pygments_lexer": "ipython3",
   "version": "3.11.5"
  }
 },
 "nbformat": 4,
 "nbformat_minor": 5
}
